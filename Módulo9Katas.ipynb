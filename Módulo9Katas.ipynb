{
 "cells": [
  {
   "cell_type": "markdown",
   "metadata": {},
   "source": [
    "# EJERCICIO 1"
   ]
  },
  {
   "cell_type": "code",
   "execution_count": 5,
   "metadata": {},
   "outputs": [],
   "source": [
    "AQUI ESTABA LA ANTIGUA FUNCION"
   ]
  },
  {
   "cell_type": "code",
   "execution_count": 10,
   "metadata": {},
   "outputs": [],
   "source": [
    "def Reporte (tanque1, tanque2, tanque3):\n",
    "    return f\"\"\" Reporte:\n",
    "    Promedio : {Promedios([tanque1, tanque2, tanque3])}%\n",
    "    tanque 1 : {tanque1}%\n",
    "    tanque 2 : {tanque2}%\n",
    "    tanque 3 : {tanque3}%\n",
    "    \"\"\""
   ]
  },
  {
   "cell_type": "code",
   "execution_count": 11,
   "metadata": {},
   "outputs": [],
   "source": [
    "def Promedios(values):\n",
    "    total = sum(values)\n",
    "    numerodecosas = len(values)\n",
    "    return total / numerodecosas"
   ]
  },
  {
   "cell_type": "code",
   "execution_count": 12,
   "metadata": {},
   "outputs": [
    {
     "name": "stdout",
     "output_type": "stream",
     "text": [
      " Reporte:\n",
      "    Promedio : 62.666666666666664%\n",
      "    tanque 1 : 60%\n",
      "    tanque 2 : 50%\n",
      "    tanque 3 : 78%\n",
      "    \n"
     ]
    }
   ],
   "source": [
    "print(Reporte(60, 50, 78))"
   ]
  },
  {
   "cell_type": "markdown",
   "metadata": {},
   "source": [
    "# EJERCICIO 2"
   ]
  },
  {
   "cell_type": "code",
   "execution_count": 2,
   "metadata": {},
   "outputs": [
    {
     "name": "stdout",
     "output_type": "stream",
     "text": [
      "\n",
      "    Mision hacia :Jupiter\n",
      "    Tiempo total de viaje: 36 minutos\n",
      "    Combustible Restante: 2254000 galones\n",
      "    \n"
     ]
    }
   ],
   "source": [
    "def Reporte_m(prelanzamiento, tiempodevuelo, destino, tanqueex, tanqueprinci):\n",
    "    return f\"\"\"\n",
    "    Mision hacia :{destino}\n",
    "    Tiempo total de viaje: {prelanzamiento + tiempodevuelo} minutos\n",
    "    Combustible Restante: {tanqueex + tanqueprinci} galones\n",
    "    \"\"\"\n",
    "\n",
    "print (Reporte_m (12, 24, \"Jupiter\", 254000, 2000000))"
   ]
  },
  {
   "cell_type": "code",
   "execution_count": 7,
   "metadata": {},
   "outputs": [
    {
     "name": "stdout",
     "output_type": "stream",
     "text": [
      "\n",
      "    Mision hacia :Jupiter\n",
      "    Tiempo total de viaje: 154 minutos\n",
      "    Combustible Restante: 6140000 galones\n",
      "    \n"
     ]
    }
   ],
   "source": [
    "def Reporte_m(destino, *tiempo , **combustible):\n",
    "    return f\"\"\"\n",
    "    Mision hacia :{destino}\n",
    "    Tiempo total de viaje: {sum(tiempo)} minutos\n",
    "    Combustible Restante: {sum(combustible.values())} galones\n",
    "    \"\"\"\n",
    "print(Reporte_m(\"Jupiter\", 142, 12, tanqueex=140000, tanqueprinci= 6000000))"
   ]
  },
  {
   "cell_type": "code",
   "execution_count": 20,
   "metadata": {},
   "outputs": [
    {
     "name": "stdout",
     "output_type": "stream",
     "text": [
      "\n",
      "    Mision hacia :Jupiter\n",
      "    Tiempo total de viaje: 154 minutos\n",
      "    Combustible Restante: 6140000 galones\n",
      "    tanqueex ---> 140000 galones restantes  \n",
      "tanqueprinci ---> 6000000 galones restantes  \n",
      "\n"
     ]
    }
   ],
   "source": [
    "def Reporte_m(destino, *tiempo , **combustible):\n",
    "    Reporteprinci = f\"\"\"\n",
    "    Mision hacia :{destino}\n",
    "    Tiempo total de viaje: {sum(tiempo)} minutos\n",
    "    Combustible Restante: {sum(combustible.values())} galones\n",
    "    \"\"\"\n",
    "    for ntanque,galones in combustible.items():\n",
    "        Reporteprinci += f\"{ntanque} ---> {galones} galones restantes  \\n\"\n",
    "    return Reporteprinci\n",
    "    \n",
    "\n",
    "print(Reporte_m(\"Jupiter\", 142, 12, tanqueex=140000, tanqueprinci= 6000000))"
   ]
  }
 ],
 "metadata": {
  "interpreter": {
   "hash": "081837b0d89a1a11c7e12cfb777b4296fc9d5cdb4add819a1b66bd9acaab463f"
  },
  "kernelspec": {
   "display_name": "Python 3.10.2 64-bit",
   "language": "python",
   "name": "python3"
  },
  "language_info": {
   "codemirror_mode": {
    "name": "ipython",
    "version": 3
   },
   "file_extension": ".py",
   "mimetype": "text/x-python",
   "name": "python",
   "nbconvert_exporter": "python",
   "pygments_lexer": "ipython3",
   "version": "3.10.2"
  },
  "orig_nbformat": 4
 },
 "nbformat": 4,
 "nbformat_minor": 2
}
