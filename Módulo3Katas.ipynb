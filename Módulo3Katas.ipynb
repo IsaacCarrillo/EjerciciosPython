{
 "cells": [
  {
   "cell_type": "markdown",
   "metadata": {},
   "source": [
    "# PROBLEMA 1"
   ]
  },
  {
   "cell_type": "code",
   "execution_count": 3,
   "metadata": {},
   "outputs": [
    {
     "name": "stdout",
     "output_type": "stream",
     "text": [
      "Objeto Espacial no reconocido se acerca\n"
     ]
    }
   ],
   "source": [
    "Asteroide= 49\n",
    "if Asteroide > 25:\n",
    "    print(\"Objeto Espacial no reconocido se acerca\")\n",
    "else:\n",
    "    print(\"No se detecta nada en los alrededores\")"
   ]
  },
  {
   "cell_type": "markdown",
   "metadata": {},
   "source": [
    "# PROBLEMA 2"
   ]
  },
  {
   "cell_type": "code",
   "execution_count": 4,
   "metadata": {},
   "outputs": [
    {
     "name": "stdout",
     "output_type": "stream",
     "text": [
      "No hay nada que ver por aqui\n"
     ]
    }
   ],
   "source": [
    "Asteroide=19\n",
    "if Asteroide > 20:\n",
    "    print (\"Mira arriba ,hay una luz en el cielo\")\n",
    "elif Asteroide == 20:\n",
    "    print (\"Mira arriba ,hay una luz en el cielo\")\n",
    "else:\n",
    "    print(\"No hay nada que ver por aqui\")"
   ]
  },
  {
   "cell_type": "markdown",
   "metadata": {},
   "source": [
    "# PROBLEMA 3"
   ]
  },
  {
   "cell_type": "code",
   "execution_count": 5,
   "metadata": {},
   "outputs": [
    {
     "name": "stdout",
     "output_type": "stream",
     "text": [
      "Mira arriba, hay una luz en el cielo\n"
     ]
    }
   ],
   "source": [
    "Velocidad=25\n",
    "Tamano=40\n",
    "if Velocidad > 25 and Tamano > 25:\n",
    "    print(\"Cuidado se acerca un asteroide muy peligroso\")\n",
    "elif Velocidad >= 25:\n",
    "    print(\"Mira arriba, hay una luz en el cielo\")\n",
    "else:\n",
    "    print(\"Todo parece muy tranquilo por aqui\")"
   ]
  }
 ],
 "metadata": {
  "interpreter": {
   "hash": "081837b0d89a1a11c7e12cfb777b4296fc9d5cdb4add819a1b66bd9acaab463f"
  },
  "kernelspec": {
   "display_name": "Python 3.10.2 64-bit",
   "language": "python",
   "name": "python3"
  },
  "language_info": {
   "codemirror_mode": {
    "name": "ipython",
    "version": 3
   },
   "file_extension": ".py",
   "mimetype": "text/x-python",
   "name": "python",
   "nbconvert_exporter": "python",
   "pygments_lexer": "ipython3",
   "version": "3.10.2"
  },
  "orig_nbformat": 4
 },
 "nbformat": 4,
 "nbformat_minor": 2
}
